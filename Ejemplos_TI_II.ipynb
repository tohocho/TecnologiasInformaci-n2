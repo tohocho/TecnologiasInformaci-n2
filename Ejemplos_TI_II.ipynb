{
  "nbformat": 4,
  "nbformat_minor": 0,
  "metadata": {
    "colab": {
      "name": "Ejemplos TI - II.ipynb",
      "version": "0.3.2",
      "provenance": [],
      "collapsed_sections": [],
      "include_colab_link": true
    },
    "kernelspec": {
      "name": "python3",
      "display_name": "Python 3"
    }
  },
  "cells": [
    {
      "cell_type": "markdown",
      "metadata": {
        "id": "view-in-github",
        "colab_type": "text"
      },
      "source": [
        "<a href=\"https://colab.research.google.com/github/tohocho/TecnologiasInformaci-n2/blob/master/Ejemplos_TI_II.ipynb\" target=\"_parent\"><img src=\"https://colab.research.google.com/assets/colab-badge.svg\" alt=\"Open In Colab\"/></a>"
      ]
    },
    {
      "cell_type": "code",
      "metadata": {
        "id": "Gw8KXOIqhN4Y",
        "colab_type": "code",
        "colab": {
          "base_uri": "https://localhost:8080/",
          "height": 67
        },
        "outputId": "c16ad622-12e3-4ee3-ca6b-42bbb70d4752"
      },
      "source": [
        "import re\n",
        "\n",
        "myString = 'From: readers@packt.com (readers email)'\n",
        "result = re.search('([\\w.-]+)@([\\w.-]+)', myString)\n",
        "if result:\n",
        "  print (result.group(0))\n",
        "  print (result.group(1))\n",
        "  print (result.group(2))"
      ],
      "execution_count": 1,
      "outputs": [
        {
          "output_type": "stream",
          "text": [
            "readers@packt.com\n",
            "readers\n",
            "packt.com\n"
          ],
          "name": "stdout"
        }
      ]
    },
    {
      "cell_type": "code",
      "metadata": {
        "id": "XPuYC5jUiLlz",
        "colab_type": "code",
        "colab": {
          "base_uri": "https://localhost:8080/",
          "height": 34
        },
        "outputId": "67ca2406-8ec0-4587-9e98-d72d40feb9e4"
      },
      "source": [
        "import re\n",
        "\n",
        "isIP = re.compile('\\d{1,3}\\.\\d{1,3}\\.\\d{1,3}\\.\\d{1,3}')\n",
        "myString = \" Just because I don't have more ideas, your IP is: 192.168.1.254 and I don't care if you think something else, btw, your age is 25 years old .123\"\n",
        "result = re.findall(isIP,myString)\n",
        "print(result)"
      ],
      "execution_count": 5,
      "outputs": [
        {
          "output_type": "stream",
          "text": [
            "['192.168.1.254']\n"
          ],
          "name": "stdout"
        }
      ]
    },
    {
      "cell_type": "code",
      "metadata": {
        "id": "g-IRTCgAiLlH",
        "colab_type": "code",
        "colab": {
          "base_uri": "https://localhost:8080/",
          "height": 34
        },
        "outputId": "29b7a3ca-eadc-495b-ce31-ef09c06df033"
      },
      "source": [
        "import re\n",
        "myString = \"01/04/2001\"\n",
        "isDate = re.match ('[0-1][0-9]\\/[0-3][0-9]\\/[1-2][0-9]{3}', myString)\n",
        "if isDate:\n",
        "  print(\"valid\")\n",
        "else:\n",
        "  print(\"Timmy\")"
      ],
      "execution_count": 9,
      "outputs": [
        {
          "output_type": "stream",
          "text": [
            "valid\n"
          ],
          "name": "stdout"
        }
      ]
    }
  ]
}